{
 "cells": [
  {
   "cell_type": "markdown",
   "metadata": {},
   "source": [
    "### Spiral Traverse\n",
    "\n",
    "Given an matrix (4*4 array), show the data in spiral manner\n",
    "\n",
    "- Input: [ [1,2,3,4], [12,13,14,5], [11, 16, 15, 6], [10, 9, 8, 7] ]\n",
    "- Output: [1,2,3,4,5,6,7,8,9,10,11,12,13,14,15,16]"
   ]
  },
  {
   "cell_type": "code",
   "execution_count": 1,
   "metadata": {},
   "outputs": [],
   "source": [
    "import numpy as np"
   ]
  },
  {
   "cell_type": "markdown",
   "metadata": {},
   "source": [
    "### Solution 1"
   ]
  },
  {
   "cell_type": "code",
   "execution_count": 2,
   "metadata": {},
   "outputs": [],
   "source": [
    "# Defining Function\n",
    "def spiralTraverse(array):\n",
    "    result = []\n",
    "    startRow, endRow = 0, len(array) - 1\n",
    "    startCol, endCol = 0, len(array[0]) - 1\n",
    "    \n",
    "    # Till padding is less do\n",
    "    while startRow <= endRow and startCol <= endCol:\n",
    "        \n",
    "        # First loop through the column of first array\n",
    "        for col in range(startCol, endCol + 1): # endCol + 1 as endCol is inclusive\n",
    "            result.append(array[startRow][col])\n",
    "            \n",
    "        # Loop through last column from first row excluding to last row inclusive\n",
    "        for row in range(startRow + 1, endRow + 1):\n",
    "            result.append(array[row][endCol])\n",
    "            \n",
    "        # Loop through by reversing Last row last col exclusive and first col inclusive\n",
    "        for col in reversed(range(startCol, endCol)):\n",
    "            result.append(array[endRow][col])\n",
    "            \n",
    "        # Loop through from first column last row to first exclusive\n",
    "        for row in reversed(range(startRow + 1, endRow)):\n",
    "            result.append(array[row][startCol])\n",
    "            \n",
    "        # Increment variables to go to the inner circle\n",
    "        startRow += 1\n",
    "        startCol += 1\n",
    "        endRow -= 1\n",
    "        endCol -= 1\n",
    "        \n",
    "    return result\n",
    "\n",
    "# It runs in O(n) time and O(n) space"
   ]
  },
  {
   "cell_type": "code",
   "execution_count": 3,
   "metadata": {},
   "outputs": [],
   "source": [
    "array_ =  np.array([ [1,2,3,4], [12,13,14,5], [11, 16, 15, 6], [10, 9, 8, 7] ])"
   ]
  },
  {
   "cell_type": "code",
   "execution_count": 4,
   "metadata": {},
   "outputs": [
    {
     "data": {
      "text/plain": [
       "array([[ 1,  2,  3,  4],\n",
       "       [12, 13, 14,  5],\n",
       "       [11, 16, 15,  6],\n",
       "       [10,  9,  8,  7]])"
      ]
     },
     "execution_count": 4,
     "metadata": {},
     "output_type": "execute_result"
    }
   ],
   "source": [
    "array_"
   ]
  },
  {
   "cell_type": "code",
   "execution_count": 5,
   "metadata": {},
   "outputs": [
    {
     "data": {
      "text/plain": [
       "[1, 2, 3, 4, 5, 6, 7, 8, 9, 10, 11, 12, 13, 14, 15, 16]"
      ]
     },
     "execution_count": 5,
     "metadata": {},
     "output_type": "execute_result"
    }
   ],
   "source": [
    "spiralTraverse(array_)"
   ]
  },
  {
   "cell_type": "markdown",
   "metadata": {},
   "source": [
    "### Solution 2"
   ]
  },
  {
   "cell_type": "code",
   "execution_count": 6,
   "metadata": {},
   "outputs": [],
   "source": [
    "# Defining Recursive function\n",
    "\n",
    "def spiralTraverseRecursive(array):\n",
    "    result = []\n",
    "    spiralFill(array, 0, len(array) - 1, 0, len(array[0]) - 1, result)\n",
    "    return result\n",
    "\n",
    "# Define recursive function\n",
    "def spiralFill(array, startRow, endRow, startCol, endCol, result):\n",
    "    # Base case\n",
    "    if startRow > endRow or startCol > endCol:\n",
    "        return\n",
    "    \n",
    "    # Loop the Functions\n",
    "    # First loop through the column of first array\n",
    "    for col in range(startCol, endCol + 1): # endCol + 1 as endCol is inclusive\n",
    "        result.append(array[startRow][col])\n",
    "\n",
    "    # Loop through last column from first row excluding to last row inclusive\n",
    "    for row in range(startRow + 1, endRow + 1):\n",
    "        result.append(array[row][endCol])\n",
    "\n",
    "    # Loop through by reversing Last row last col exclusive and first col inclusive\n",
    "    for col in reversed(range(startCol, endCol)):\n",
    "        result.append(array[endRow][col])\n",
    "\n",
    "    # Loop through from first column last row to first exclusive\n",
    "    for row in reversed(range(startRow + 1, endRow)):\n",
    "        result.append(array[row][startCol])\n",
    "        \n",
    "    # Call Recursion\n",
    "    spiralFill(array, startRow + 1, endRow - 1, startCol + 1, endCol - 1, result)\n",
    "    \n",
    "# It runs in O(n) time and O(n) space | Stack occupies space but it is less"
   ]
  },
  {
   "cell_type": "code",
   "execution_count": 7,
   "metadata": {},
   "outputs": [
    {
     "data": {
      "text/plain": [
       "[1, 2, 3, 4, 5, 6, 7, 8, 9, 10, 11, 12, 13, 14, 15, 16]"
      ]
     },
     "execution_count": 7,
     "metadata": {},
     "output_type": "execute_result"
    }
   ],
   "source": [
    "spiralTraverseRecursive(array_)"
   ]
  }
 ],
 "metadata": {
  "kernelspec": {
   "display_name": "Python 3",
   "language": "python",
   "name": "python3"
  },
  "language_info": {
   "codemirror_mode": {
    "name": "ipython",
    "version": 3
   },
   "file_extension": ".py",
   "mimetype": "text/x-python",
   "name": "python",
   "nbconvert_exporter": "python",
   "pygments_lexer": "ipython3",
   "version": "3.6.10"
  }
 },
 "nbformat": 4,
 "nbformat_minor": 4
}
