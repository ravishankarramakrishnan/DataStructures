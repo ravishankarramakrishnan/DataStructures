{
 "cells": [
  {
   "cell_type": "markdown",
   "metadata": {},
   "source": [
    "### Monotonic Array\n",
    "\n",
    "Given an array, show whether the array follows monotonic properties or not\n",
    "\n",
    "- Input: [-1, -5, -6, -6, -21, -21, -33, -108]\n",
    "- Output: True"
   ]
  },
  {
   "cell_type": "markdown",
   "metadata": {},
   "source": [
    "### Solution 1"
   ]
  },
  {
   "cell_type": "code",
   "execution_count": 14,
   "metadata": {},
   "outputs": [],
   "source": [
    "def ismonotonicArray(array):\n",
    "    # If length =< 2 automatically it has monotonic properties\n",
    "    if len(array) <= 2:\n",
    "        return True\n",
    "    \n",
    "    # Check the direction - If it flows positively or Negatively\n",
    "    \n",
    "    direction = array[1] - array[0]\n",
    "    # Go from 2nd index till last\n",
    "    for i in range(2, len(array)):\n",
    "        \n",
    "        # Assume if 0th and 1st element are same\n",
    "        if direction == 0:\n",
    "            direction = array[i] - array[i-1]\n",
    "            continue\n",
    "        \n",
    "        # If direction is broken at middle\n",
    "        if breaksDirection(direction, array[i-1], array[i]):\n",
    "            return False\n",
    "    \n",
    "    return True\n",
    "\n",
    "def breaksDirection(direction, prevInt, currInt):\n",
    "    difference = currInt - prevInt\n",
    "    if direction > 0:\n",
    "        return difference < 0\n",
    "    return difference > 0\n",
    "\n",
    "# This takes O(N) time and O(1) space"
   ]
  },
  {
   "cell_type": "code",
   "execution_count": 15,
   "metadata": {},
   "outputs": [
    {
     "data": {
      "text/plain": [
       "True"
      ]
     },
     "execution_count": 15,
     "metadata": {},
     "output_type": "execute_result"
    }
   ],
   "source": [
    "ismonotonicArray([-1, -5, -6, -6, -21, -21, -33, -108])"
   ]
  },
  {
   "cell_type": "code",
   "execution_count": 16,
   "metadata": {},
   "outputs": [
    {
     "data": {
      "text/plain": [
       "True"
      ]
     },
     "execution_count": 16,
     "metadata": {},
     "output_type": "execute_result"
    }
   ],
   "source": [
    "ismonotonicArray([1, 5, 6, 6, 21, 21, 33, 108])"
   ]
  },
  {
   "cell_type": "code",
   "execution_count": 17,
   "metadata": {},
   "outputs": [
    {
     "data": {
      "text/plain": [
       "False"
      ]
     },
     "execution_count": 17,
     "metadata": {},
     "output_type": "execute_result"
    }
   ],
   "source": [
    "ismonotonicArray([-1, -5, -6, -6, -21, 21, -33, -108])"
   ]
  },
  {
   "cell_type": "markdown",
   "metadata": {},
   "source": [
    "### Solution 2"
   ]
  },
  {
   "cell_type": "code",
   "execution_count": 18,
   "metadata": {},
   "outputs": [],
   "source": [
    "def ismonotonicArray(array):\n",
    "    isNonIncreasing, isNonDecreasing = True, True\n",
    "    \n",
    "    # Loop through\n",
    "    for i in range(1, len(array)):\n",
    "        if array[i] < array[i-1]:\n",
    "            isNonDecreasing = False\n",
    "        elif array[i] > array[i-1]:\n",
    "            isNonIncreasing = False\n",
    "    return isNonDecreasing or isNonIncreasing\n",
    "\n",
    "# This takes O(N) time and O(1) space"
   ]
  },
  {
   "cell_type": "code",
   "execution_count": 19,
   "metadata": {},
   "outputs": [
    {
     "data": {
      "text/plain": [
       "True"
      ]
     },
     "execution_count": 19,
     "metadata": {},
     "output_type": "execute_result"
    }
   ],
   "source": [
    "ismonotonicArray([-1, -5, -6, -6, -21, -21, -33, -108])"
   ]
  },
  {
   "cell_type": "code",
   "execution_count": 20,
   "metadata": {},
   "outputs": [
    {
     "data": {
      "text/plain": [
       "True"
      ]
     },
     "execution_count": 20,
     "metadata": {},
     "output_type": "execute_result"
    }
   ],
   "source": [
    "ismonotonicArray([1, 5, 6, 6, 21, 21, 33, 108])"
   ]
  },
  {
   "cell_type": "code",
   "execution_count": 21,
   "metadata": {},
   "outputs": [
    {
     "data": {
      "text/plain": [
       "False"
      ]
     },
     "execution_count": 21,
     "metadata": {},
     "output_type": "execute_result"
    }
   ],
   "source": [
    "ismonotonicArray([-1, -5, -6, -6, -21, 21, -33, -108])"
   ]
  },
  {
   "cell_type": "code",
   "execution_count": 22,
   "metadata": {},
   "outputs": [
    {
     "data": {
      "text/plain": [
       "True"
      ]
     },
     "execution_count": 22,
     "metadata": {},
     "output_type": "execute_result"
    }
   ],
   "source": [
    "# The only case it misses would be if all are same\n",
    "ismonotonicArray([2,2,2,2,2,2,2])"
   ]
  }
 ],
 "metadata": {
  "kernelspec": {
   "display_name": "Python 3",
   "language": "python",
   "name": "python3"
  },
  "language_info": {
   "codemirror_mode": {
    "name": "ipython",
    "version": 3
   },
   "file_extension": ".py",
   "mimetype": "text/x-python",
   "name": "python",
   "nbconvert_exporter": "python",
   "pygments_lexer": "ipython3",
   "version": "3.6.10"
  }
 },
 "nbformat": 4,
 "nbformat_minor": 4
}
