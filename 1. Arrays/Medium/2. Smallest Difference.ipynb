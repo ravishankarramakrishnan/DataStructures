{
 "cells": [
  {
   "cell_type": "markdown",
   "metadata": {},
   "source": [
    "### Smallest Difference\n",
    "\n",
    "Given two unsorted arrays find the smallest pair with minimum difference among the 2 arrays. (Swapping logic can be used)\n",
    "\n",
    "- Input: [-1, 5, 10, 20, 28, 3], [26, 134, 135, 15, 17]\n",
    "- Output: [28, 26]"
   ]
  },
  {
   "cell_type": "markdown",
   "metadata": {},
   "source": [
    "### Solution 1"
   ]
  },
  {
   "cell_type": "code",
   "execution_count": 12,
   "metadata": {},
   "outputs": [],
   "source": [
    "def smallestDiffernce(array1, array2):\n",
    "    # Sort the two arrays\n",
    "    array1.sort()\n",
    "    array2.sort()\n",
    "    \n",
    "    # Create indexes to move through the array\n",
    "    idxONE = 0\n",
    "    idxTWO = 0\n",
    "    \n",
    "    # Assign smallest value and difference between them\n",
    "    current = float('inf')\n",
    "    smallest = float('inf') # gives infinity value\n",
    "    smallestPair = []\n",
    "    \n",
    "    # till overlap loop\n",
    "    while idxONE < len(array1) and idxTWO < len(array2):\n",
    "        firstNum = array1[idxONE]\n",
    "        secondNum = array2[idxTWO]\n",
    "        \n",
    "        # Check if firstnum < secondnum of the sorted 2 arrays\n",
    "        if firstNum < secondNum:\n",
    "            current = secondNum - firstNum\n",
    "            idxONE += 1\n",
    "            \n",
    "        elif firstNum > secondNum:\n",
    "            current = firstNum - secondNum\n",
    "            idxTWO += 1\n",
    "        \n",
    "        else:\n",
    "            # If both are same\n",
    "            return [firstNum, secondNum]\n",
    "        \n",
    "        # Updating the Difference\n",
    "        if smallest > current:\n",
    "            smallest = current\n",
    "            #smallestPair.append([firstNum, secondNum]) # Shows all differences\n",
    "            smallestPair = [firstNum, secondNum]\n",
    "    \n",
    "    return smallestPair\n",
    "\n",
    "# It runs in O(nlog(n) + mlog(m)) time and O(1) space"
   ]
  },
  {
   "cell_type": "code",
   "execution_count": 13,
   "metadata": {},
   "outputs": [
    {
     "data": {
      "text/plain": [
       "[28, 26]"
      ]
     },
     "execution_count": 13,
     "metadata": {},
     "output_type": "execute_result"
    }
   ],
   "source": [
    "smallestDiffernce(array1= [-1, 5, 10, 20, 28, 3], array2=[26, 134, 135, 15, 17])"
   ]
  }
 ],
 "metadata": {
  "kernelspec": {
   "display_name": "Python 3",
   "language": "python",
   "name": "python3"
  },
  "language_info": {
   "codemirror_mode": {
    "name": "ipython",
    "version": 3
   },
   "file_extension": ".py",
   "mimetype": "text/x-python",
   "name": "python",
   "nbconvert_exporter": "python",
   "pygments_lexer": "ipython3",
   "version": "3.6.10"
  }
 },
 "nbformat": 4,
 "nbformat_minor": 4
}
