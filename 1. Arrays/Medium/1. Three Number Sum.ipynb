{
 "cells": [
  {
   "cell_type": "markdown",
   "metadata": {},
   "source": [
    "### Three Number Sum\n",
    "\n",
    "Given an Array and a value, find the 3 pairs in the Array given its sum is the value\n",
    "\n",
    "Eg:\n",
    "- Array : [12,3,1, 2, -6, 5, -8,6]\n",
    "- Value : 0\n",
    "- Output : [[-8,2,6],[-8,3,5],[-6,1,5]]"
   ]
  },
  {
   "cell_type": "markdown",
   "metadata": {},
   "source": [
    "### Solution 1"
   ]
  },
  {
   "cell_type": "code",
   "execution_count": 7,
   "metadata": {},
   "outputs": [],
   "source": [
    "def threeNumberSum(array, total):\n",
    "    list_ = []\n",
    "    for i in range(len(array)-2):\n",
    "        for j in range(i+1, len(array)-1):\n",
    "            for k in range(j+1, len(array)):\n",
    "                if (array[i] + array[j] + array[k]) == total:\n",
    "                    list_.append([array[i], array[j], array[k]])\n",
    "    return list_\n",
    "\n",
    "# It runs in O(n^3) time complexity and O(k) space complexity"
   ]
  },
  {
   "cell_type": "code",
   "execution_count": 8,
   "metadata": {},
   "outputs": [
    {
     "data": {
      "text/plain": [
       "[[3, 5, -8], [1, -6, 5], [2, -8, 6]]"
      ]
     },
     "execution_count": 8,
     "metadata": {},
     "output_type": "execute_result"
    }
   ],
   "source": [
    "threeNumberSum([12,3,1, 2, -6, 5, -8,6], 0)"
   ]
  },
  {
   "cell_type": "markdown",
   "metadata": {},
   "source": [
    "### Solution 2"
   ]
  },
  {
   "cell_type": "code",
   "execution_count": 9,
   "metadata": {},
   "outputs": [],
   "source": [
    "def threeNumberSum(array, total):\n",
    "    # Sort the array (n log(n))\n",
    "    array.sort()\n",
    "    \n",
    "    triplets = []\n",
    "    \n",
    "    # Take the first element as index\n",
    "    for i in range(len(array)-2):\n",
    "        left = i+1\n",
    "        right = len(array) - 1\n",
    "        \n",
    "        # Condition for left < right\n",
    "        while left < right:\n",
    "            currentSum = array[i] + array[left] + array[right]\n",
    "            if currentSum == total:\n",
    "                triplets.append([array[i], array[left], array[right]])\n",
    "                left += 1\n",
    "                right -= 1\n",
    "            elif currentSum < total:\n",
    "                left += 1\n",
    "            else:\n",
    "                right -=1\n",
    "    \n",
    "    return triplets\n",
    "\n",
    "# It runs in O(n^2) time complexity and O(n) space"
   ]
  },
  {
   "cell_type": "code",
   "execution_count": 10,
   "metadata": {},
   "outputs": [
    {
     "data": {
      "text/plain": [
       "[[-8, 2, 6], [-8, 3, 5], [-6, 1, 5]]"
      ]
     },
     "execution_count": 10,
     "metadata": {},
     "output_type": "execute_result"
    }
   ],
   "source": [
    "threeNumberSum([12,3,1, 2, -6, 5, -8,6], 0)"
   ]
  }
 ],
 "metadata": {
  "kernelspec": {
   "display_name": "Python 3",
   "language": "python",
   "name": "python3"
  },
  "language_info": {
   "codemirror_mode": {
    "name": "ipython",
    "version": 3
   },
   "file_extension": ".py",
   "mimetype": "text/x-python",
   "name": "python",
   "nbconvert_exporter": "python",
   "pygments_lexer": "ipython3",
   "version": "3.6.10"
  }
 },
 "nbformat": 4,
 "nbformat_minor": 4
}
