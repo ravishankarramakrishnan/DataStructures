{
 "cells": [
  {
   "cell_type": "markdown",
   "metadata": {},
   "source": [
    "### Move an Element to End\n",
    "\n",
    "Given an array of unsorted elements, move a particular (given) element to the end - can use index swapping\n",
    "\n",
    "Eg:\n",
    "- Array: [2,1,2,2,2,3,4,2]\n",
    "- OP: [4,1,3,2,2,2,2,2]"
   ]
  },
  {
   "cell_type": "code",
   "execution_count": 10,
   "metadata": {},
   "outputs": [],
   "source": [
    "# Define a Function\n",
    "def movetoEnd(array, num):\n",
    "    left = 0\n",
    "    right = len(array) - 1\n",
    "    # To prevent Overlaps\n",
    "    while left < right:\n",
    "        # To prevent swapping once done\n",
    "        #while (left < right) and array[right] == num:\n",
    "        while array[right] == num:\n",
    "            # As we want the number in last\n",
    "            right -= 1\n",
    "        if array[left] == num:\n",
    "            # Swap it\n",
    "            array[left], array[right] = array[right], array[left]\n",
    "        \n",
    "        # Move left anyways\n",
    "        left += 1\n",
    "    return array\n",
    "\n",
    "# It takes O(n) time complexity and O(1) space complexity"
   ]
  },
  {
   "cell_type": "code",
   "execution_count": 11,
   "metadata": {},
   "outputs": [
    {
     "data": {
      "text/plain": [
       "[4, 1, 2, 3, 2, 2, 2, 2]"
      ]
     },
     "execution_count": 11,
     "metadata": {},
     "output_type": "execute_result"
    }
   ],
   "source": [
    "movetoEnd([2,1,2,2,2,3,4,2], 2)"
   ]
  },
  {
   "cell_type": "code",
   "execution_count": 12,
   "metadata": {},
   "outputs": [],
   "source": [
    "# Add condition to 2nd while statement to prevent over swapping\n",
    "# Define a Function\n",
    "def movetoEnd(array, num):\n",
    "    left = 0\n",
    "    right = len(array) - 1\n",
    "    # To prevent Overlaps\n",
    "    while left < right:\n",
    "        # To prevent swapping once done\n",
    "        while (left < right) and array[right] == num:\n",
    "            # As we want the number in last\n",
    "            right -= 1\n",
    "        if array[left] == num:\n",
    "            # Swap it\n",
    "            array[left], array[right] = array[right], array[left]\n",
    "        \n",
    "        # Move left anyways\n",
    "        left += 1\n",
    "    return array\n",
    "\n",
    "# It takes O(n) time complexity and O(1) space complexity"
   ]
  },
  {
   "cell_type": "code",
   "execution_count": 13,
   "metadata": {},
   "outputs": [
    {
     "data": {
      "text/plain": [
       "[4, 1, 3, 2, 2, 2, 2, 2]"
      ]
     },
     "execution_count": 13,
     "metadata": {},
     "output_type": "execute_result"
    }
   ],
   "source": [
    "movetoEnd([2,1,2,2,2,3,4,2], 2)"
   ]
  }
 ],
 "metadata": {
  "kernelspec": {
   "display_name": "Python 3",
   "language": "python",
   "name": "python3"
  },
  "language_info": {
   "codemirror_mode": {
    "name": "ipython",
    "version": 3
   },
   "file_extension": ".py",
   "mimetype": "text/x-python",
   "name": "python",
   "nbconvert_exporter": "python",
   "pygments_lexer": "ipython3",
   "version": "3.6.10"
  }
 },
 "nbformat": 4,
 "nbformat_minor": 4
}
