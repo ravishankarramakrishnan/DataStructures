{
 "cells": [
  {
   "cell_type": "markdown",
   "metadata": {},
   "source": [
    "### Validating Subsequence\n",
    "\n",
    "Given an Two Arrays, find if the second subsequence (array) is present in first array, and in same order. \n",
    "\n",
    "Eg:\n",
    "- Array : [5,1,3,-5,-2,4,1,0,-6]\n",
    "- Value : \n",
    "- Output : True or False"
   ]
  },
  {
   "cell_type": "markdown",
   "metadata": {},
   "source": [
    "### Solution 1"
   ]
  },
  {
   "cell_type": "code",
   "execution_count": 3,
   "metadata": {},
   "outputs": [],
   "source": [
    "# Define a Function\n",
    "def validateSubsequence(array, sequence):\n",
    "    arrIDX, seqIDX = 0, 0\n",
    "    while arrIDX < len(array) and seqIDX < len(sequence):\n",
    "        # If a sequence is found move to next sequence\n",
    "        if array[arrIDX] == sequence[seqIDX]:\n",
    "            seqIDX += 1\n",
    "        # Always, arrayIdx gets incremented to move to next index\n",
    "        arrIDX += 1\n",
    "    return seqIDX == len(sequence)\n",
    "\n",
    "# This runs in O(n) time and O(1) space"
   ]
  },
  {
   "cell_type": "code",
   "execution_count": 4,
   "metadata": {},
   "outputs": [
    {
     "data": {
      "text/plain": [
       "True"
      ]
     },
     "execution_count": 4,
     "metadata": {},
     "output_type": "execute_result"
    }
   ],
   "source": [
    "validateSubsequence([5,1,22,25,6,-1,8,10,117], [1,6,-1,10])"
   ]
  },
  {
   "cell_type": "code",
   "execution_count": 5,
   "metadata": {},
   "outputs": [
    {
     "data": {
      "text/plain": [
       "True"
      ]
     },
     "execution_count": 5,
     "metadata": {},
     "output_type": "execute_result"
    }
   ],
   "source": [
    "validateSubsequence([5,1,3,-5,-2,4,1,0,-6], [3,-5,4,0,-6])"
   ]
  },
  {
   "cell_type": "code",
   "execution_count": 6,
   "metadata": {},
   "outputs": [
    {
     "data": {
      "text/plain": [
       "False"
      ]
     },
     "execution_count": 6,
     "metadata": {},
     "output_type": "execute_result"
    }
   ],
   "source": [
    "validateSubsequence([5,1,3,-5,-2,4,1,0,-6], [3,-5,12,0,-6])"
   ]
  },
  {
   "cell_type": "markdown",
   "metadata": {},
   "source": [
    "### Solution 2"
   ]
  },
  {
   "cell_type": "code",
   "execution_count": 7,
   "metadata": {},
   "outputs": [],
   "source": [
    "# Define a Function\n",
    "def validateSubsequence(array, sequence):\n",
    "    seqIDX = 0\n",
    "    for val in array:\n",
    "        # Condition so that seqIDX dont go beyond its length\n",
    "        if seqIDX == len(sequence):\n",
    "            break\n",
    "        if sequence[seqIDX] == val:\n",
    "            seqIDX += 1\n",
    "    # Return. True if sequence id is same as its length, else returned false\n",
    "    return seqIDX == len(sequence)\n",
    "\n",
    "# This runs in O(n) time and O(1) space"
   ]
  },
  {
   "cell_type": "code",
   "execution_count": 8,
   "metadata": {},
   "outputs": [
    {
     "data": {
      "text/plain": [
       "True"
      ]
     },
     "execution_count": 8,
     "metadata": {},
     "output_type": "execute_result"
    }
   ],
   "source": [
    "validateSubsequence([5,1,3,-5,-2,4,1,0,-6], [3,-5,4,0,-6])"
   ]
  },
  {
   "cell_type": "code",
   "execution_count": 9,
   "metadata": {},
   "outputs": [
    {
     "data": {
      "text/plain": [
       "False"
      ]
     },
     "execution_count": 9,
     "metadata": {},
     "output_type": "execute_result"
    }
   ],
   "source": [
    "validateSubsequence([5,1,3,-5,-2,4,1,0,-6], [3,-5,12,0,-6])"
   ]
  }
 ],
 "metadata": {
  "kernelspec": {
   "display_name": "Python 3",
   "language": "python",
   "name": "python3"
  },
  "language_info": {
   "codemirror_mode": {
    "name": "ipython",
    "version": 3
   },
   "file_extension": ".py",
   "mimetype": "text/x-python",
   "name": "python",
   "nbconvert_exporter": "python",
   "pygments_lexer": "ipython3",
   "version": "3.6.10"
  }
 },
 "nbformat": 4,
 "nbformat_minor": 4
}
