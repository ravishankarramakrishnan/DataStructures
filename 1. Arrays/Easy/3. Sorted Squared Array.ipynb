{
 "cells": [
  {
   "cell_type": "markdown",
   "metadata": {},
   "source": [
    "### Sorted Squared Array\n",
    "\n",
    "Given a Sorted Array, Square the array and sort its order. We cant normally sort as -3, -2 and 3, 2 becomes -> 9, 4, 9, 4\n",
    "\n",
    "Eg:\n",
    "- Array : [-5, -1, 0, 2, 3,6]\n",
    "- Output : [0, 1, 4, 9, 25, 36]"
   ]
  },
  {
   "cell_type": "markdown",
   "metadata": {},
   "source": [
    "### Solution 1"
   ]
  },
  {
   "cell_type": "code",
   "execution_count": 3,
   "metadata": {},
   "outputs": [],
   "source": [
    "# Define a Function\n",
    "def sortedSquaredArray(array):\n",
    "    # Create an empty list of same size\n",
    "    sortedSquares = [0 for _ in range(len(array))]\n",
    "    \n",
    "    # Loop through and square it\n",
    "    for idx in range(len(array)):\n",
    "        value = array[idx]\n",
    "        sortedSquares[idx] = value * value\n",
    "    \n",
    "    sortedSquares.sort() # o(nlog(n))\n",
    "    return sortedSquares\n",
    "\n",
    "# It runs in O(nlog(n)) time and O(n) space"
   ]
  },
  {
   "cell_type": "code",
   "execution_count": 4,
   "metadata": {},
   "outputs": [
    {
     "data": {
      "text/plain": [
       "[0, 1, 4, 9, 25, 36]"
      ]
     },
     "execution_count": 4,
     "metadata": {},
     "output_type": "execute_result"
    }
   ],
   "source": [
    "sortedSquaredArray([-5, -1, 0, 2, 3,6])"
   ]
  },
  {
   "cell_type": "markdown",
   "metadata": {},
   "source": [
    "### Solution 2"
   ]
  },
  {
   "cell_type": "code",
   "execution_count": 21,
   "metadata": {},
   "outputs": [],
   "source": [
    "def sortedSquaredArray(array):\n",
    "    sortedSquares = [0 for _ in range(len(array))]\n",
    "    smallValueIDX = 0\n",
    "    largeValueIDX = len(array) - 1\n",
    "    for idx in reversed(range(len(array))):\n",
    "        smallValue = array[smallValueIDX]\n",
    "        largeValue = array[largeValueIDX]\n",
    "        \n",
    "        # Check if Absolute small value > idx\n",
    "        if abs(smallValue) > abs(largeValue):\n",
    "            sortedSquares[idx] = smallValue*smallValue\n",
    "            smallValueIDX += 1\n",
    "        #elif abs(smallValue) <= abs(largeValue):\n",
    "        else:\n",
    "            sortedSquares[idx] = largeValue*largeValue\n",
    "            largeValueIDX -= 1\n",
    "    \n",
    "    # Return sorted array\n",
    "    return sortedSquares\n",
    "            \n",
    "# It runs in O(n) time complexity and O(1) space complexity"
   ]
  },
  {
   "cell_type": "code",
   "execution_count": 22,
   "metadata": {},
   "outputs": [
    {
     "data": {
      "text/plain": [
       "[0, 1, 4, 9, 25, 36]"
      ]
     },
     "execution_count": 22,
     "metadata": {},
     "output_type": "execute_result"
    }
   ],
   "source": [
    "sortedSquaredArray([-5, -1, 0, 2, 3,6])"
   ]
  }
 ],
 "metadata": {
  "kernelspec": {
   "display_name": "Python 3",
   "language": "python",
   "name": "python3"
  },
  "language_info": {
   "codemirror_mode": {
    "name": "ipython",
    "version": 3
   },
   "file_extension": ".py",
   "mimetype": "text/x-python",
   "name": "python",
   "nbconvert_exporter": "python",
   "pygments_lexer": "ipython3",
   "version": "3.6.10"
  }
 },
 "nbformat": 4,
 "nbformat_minor": 4
}
