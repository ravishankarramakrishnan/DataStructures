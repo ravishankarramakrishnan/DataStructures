{
 "cells": [
  {
   "cell_type": "markdown",
   "metadata": {},
   "source": [
    "### Non Constructible Change\n",
    "\n",
    "Given a List of currency, identify the lowest currency which cannot be constructed using an array\n",
    "Eg:\n",
    "- CurrencyArray: [5,7,1,1,2,3,22]\n",
    "- Sort it: [1,1,2,3,5,7,22] => Till 19 all can be constructed except 20\n",
    "- Show the minimum currency that cannot be made\n",
    "\n",
    "Pattern -> if sum > next+1 return next+1"
   ]
  },
  {
   "cell_type": "code",
   "execution_count": 1,
   "metadata": {},
   "outputs": [],
   "source": [
    "def nonConstructibleChange(coins):\n",
    "    coins.sort() # O(nlog(n)) time\n",
    "    \n",
    "    currentChangeCreated = 0\n",
    "    for coin in coins:\n",
    "        if coin > currentChangeCreated + 1:\n",
    "            return currentChangeCreated + 1\n",
    "        currentChangeCreated += coin\n",
    "    return currentChangeCreated+1\n",
    "\n",
    "# It runs in O(nlog(n)) time complexity and O(1) space complexity"
   ]
  },
  {
   "cell_type": "code",
   "execution_count": 3,
   "metadata": {},
   "outputs": [
    {
     "data": {
      "text/plain": [
       "62"
      ]
     },
     "execution_count": 3,
     "metadata": {},
     "output_type": "execute_result"
    }
   ],
   "source": [
    "nonConstructibleChange([5,7,1,1,2,3,20,22])"
   ]
  },
  {
   "cell_type": "code",
   "execution_count": 4,
   "metadata": {},
   "outputs": [
    {
     "data": {
      "text/plain": [
       "20"
      ]
     },
     "execution_count": 4,
     "metadata": {},
     "output_type": "execute_result"
    }
   ],
   "source": [
    "nonConstructibleChange([5,7,1,1,2,3,22])"
   ]
  }
 ],
 "metadata": {
  "kernelspec": {
   "display_name": "Python 3",
   "language": "python",
   "name": "python3"
  },
  "language_info": {
   "codemirror_mode": {
    "name": "ipython",
    "version": 3
   },
   "file_extension": ".py",
   "mimetype": "text/x-python",
   "name": "python",
   "nbconvert_exporter": "python",
   "pygments_lexer": "ipython3",
   "version": "3.6.10"
  }
 },
 "nbformat": 4,
 "nbformat_minor": 4
}
