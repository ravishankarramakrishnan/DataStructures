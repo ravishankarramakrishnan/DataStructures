{
 "cells": [
  {
   "cell_type": "markdown",
   "metadata": {},
   "source": [
    "### Two Number Sum\n",
    "\n",
    "Given an Array and a value, find the pairs in the Array given its sum is the value\n",
    "\n",
    "Eg:\n",
    "- Array : [1,2,3,4,6]\n",
    "- Value : 8\n",
    "- Output : (6, 2)"
   ]
  },
  {
   "cell_type": "markdown",
   "metadata": {},
   "source": [
    "### Solution 1"
   ]
  },
  {
   "cell_type": "code",
   "execution_count": 17,
   "metadata": {},
   "outputs": [],
   "source": [
    "# Define Function\n",
    "def twoNumberSum(array, value):\n",
    "    # Go till the Last element -1\n",
    "    for i in range(len(array) - 1):\n",
    "        firstNum = array[i]\n",
    "        # Go till the Last element\n",
    "        for j in range(i+1, len(array)):\n",
    "            secondNum = array[j]\n",
    "                        \n",
    "            # Condition\n",
    "            if firstNum + secondNum == value:\n",
    "                return [firstNum, secondNum]\n",
    "        \n",
    "    # If no pairs are found return empty list\n",
    "    return []\n",
    "\n",
    "# It runs in O(n^2) time and O(1) space"
   ]
  },
  {
   "cell_type": "code",
   "execution_count": 18,
   "metadata": {},
   "outputs": [
    {
     "data": {
      "text/plain": [
       "[2, 6]"
      ]
     },
     "execution_count": 18,
     "metadata": {},
     "output_type": "execute_result"
    }
   ],
   "source": [
    "twoNumberSum([1,2,3,4,6], 8)"
   ]
  },
  {
   "cell_type": "markdown",
   "metadata": {},
   "source": [
    "### Solution 2"
   ]
  },
  {
   "cell_type": "code",
   "execution_count": 21,
   "metadata": {},
   "outputs": [],
   "source": [
    "# Define Function\n",
    "def twoNumberSum(array, value):\n",
    "    # Define empty hashmap\n",
    "    hashMap = {}\n",
    "    for num in array:\n",
    "        # Check if target-input (y) is present in dictionary\n",
    "        if value - num in hashMap:\n",
    "            return [value-num, num]\n",
    "        else:\n",
    "            hashMap[num] = True\n",
    "    \n",
    "    # If nothing is found return empty array\n",
    "    return []\n",
    "\n",
    "# It runs in O(n) time and O(n) space to store in dictionary"
   ]
  },
  {
   "cell_type": "code",
   "execution_count": 22,
   "metadata": {},
   "outputs": [
    {
     "data": {
      "text/plain": [
       "[2, 6]"
      ]
     },
     "execution_count": 22,
     "metadata": {},
     "output_type": "execute_result"
    }
   ],
   "source": [
    "twoNumberSum([1,2,3,4,6], 8)"
   ]
  },
  {
   "cell_type": "markdown",
   "metadata": {},
   "source": [
    "### Solution 3"
   ]
  },
  {
   "cell_type": "code",
   "execution_count": 25,
   "metadata": {},
   "outputs": [],
   "source": [
    "# Define Function\n",
    "def twoNumberSum(array, value):\n",
    "    # Sort the Array using builtin function\n",
    "    array.sort() # n log(n) time\n",
    "    left = 0\n",
    "    right = len(array) - 1\n",
    "    \n",
    "    # Loop through by moving the indexes left and right\n",
    "    while left < right:\n",
    "        currentSum = array[left] + array[right]\n",
    "        if currentSum == value:\n",
    "            return [array[left], array[right]]\n",
    "        elif currentSum < value:\n",
    "            # Increment Left index\n",
    "            left += 1\n",
    "        elif currentSum > value:\n",
    "            # Decrement Right Index\n",
    "            right -= 1\n",
    "    \n",
    "    # If nothing is foumd return empty array\n",
    "    return []\n",
    "\n",
    "# It runs in O(nlog(n)) time and O(1) space"
   ]
  },
  {
   "cell_type": "code",
   "execution_count": 26,
   "metadata": {},
   "outputs": [
    {
     "data": {
      "text/plain": [
       "[2, 6]"
      ]
     },
     "execution_count": 26,
     "metadata": {},
     "output_type": "execute_result"
    }
   ],
   "source": [
    "twoNumberSum([1,2,3,4,6], 8)"
   ]
  }
 ],
 "metadata": {
  "kernelspec": {
   "display_name": "Python 3",
   "language": "python",
   "name": "python3"
  },
  "language_info": {
   "codemirror_mode": {
    "name": "ipython",
    "version": 3
   },
   "file_extension": ".py",
   "mimetype": "text/x-python",
   "name": "python",
   "nbconvert_exporter": "python",
   "pygments_lexer": "ipython3",
   "version": "3.6.10"
  }
 },
 "nbformat": 4,
 "nbformat_minor": 4
}
