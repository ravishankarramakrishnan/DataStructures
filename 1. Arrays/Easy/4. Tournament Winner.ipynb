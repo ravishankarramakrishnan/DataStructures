{
 "cells": [
  {
   "cell_type": "markdown",
   "metadata": {},
   "source": [
    "### Tournament Winner\n",
    "\n",
    "Given a List of Home team and Away team array, along with their results, identify the best performing team in the array\n",
    "\n",
    "Eg:\n",
    "- CompetitionArray : [[IND, WS], [AUS, IND], [WS, AUS]], Results: [1, 0, 0] {1 Depicts Home team win and 0 Depicts Away team win}\n",
    "- Each Victory is added 3 points, and for losing 0 points are added\n",
    "- Show the Best team (One with high points). Note - Only 1 team can be best\n",
    "Note: Length of Competition Array and Results are same"
   ]
  },
  {
   "cell_type": "markdown",
   "metadata": {},
   "source": [
    "### Solution 1"
   ]
  },
  {
   "cell_type": "code",
   "execution_count": 13,
   "metadata": {},
   "outputs": [],
   "source": [
    "# Define a function - We use Hash maps\n",
    "\n",
    "def competitionWinner(array, results):\n",
    "    # Define hash table\n",
    "    currentBestTeam = \"\"\n",
    "    scores = {currentBestTeam:0}\n",
    "    HOMETEAMWON = 1\n",
    "    POINTS = 3\n",
    "    \n",
    "    # Enumerate to get the index\n",
    "    for idx, teams in enumerate(array):\n",
    "        teamHome, teamAway = teams\n",
    "        result = results[idx]\n",
    "        winningTeam = teamHome if result == HOMETEAMWON else teamAway\n",
    "        \n",
    "        updateScores(winningTeam, POINTS, scores)\n",
    "        \n",
    "        # Check if scores > currentTeam\n",
    "        if scores[winningTeam] > scores[currentBestTeam]:\n",
    "            currentBestTeam = winningTeam\n",
    "            \n",
    "    print(scores)\n",
    "    return currentBestTeam\n",
    "        \n",
    "def updateScores(winningTeam, points, hashdict):\n",
    "    hashdict[winningTeam] = hashdict.get(winningTeam, 0) + 3\n",
    "    \n",
    "    # Other way\n",
    "    #if winningTeam not in hashdict:\n",
    "        #hashdict[winningTeam] = 0\n",
    "    \n",
    "    #hashdict[winningTeam] += 3\n",
    "\n",
    "    \n",
    "# It takes O(n) time complexity and O(k) space complexity -> k is no of teams + 1 (constant k)"
   ]
  },
  {
   "cell_type": "code",
   "execution_count": 14,
   "metadata": {},
   "outputs": [
    {
     "name": "stdout",
     "output_type": "stream",
     "text": [
      "{'': 0, 'IND': 6, 'AUS': 3}\n"
     ]
    },
    {
     "data": {
      "text/plain": [
       "'IND'"
      ]
     },
     "execution_count": 14,
     "metadata": {},
     "output_type": "execute_result"
    }
   ],
   "source": [
    "competitionWinner([['IND', 'WS'], ['AUS', 'IND'], ['WS', 'AUS']],  [1, 0, 0] )"
   ]
  }
 ],
 "metadata": {
  "kernelspec": {
   "display_name": "Python 3",
   "language": "python",
   "name": "python3"
  },
  "language_info": {
   "codemirror_mode": {
    "name": "ipython",
    "version": 3
   },
   "file_extension": ".py",
   "mimetype": "text/x-python",
   "name": "python",
   "nbconvert_exporter": "python",
   "pygments_lexer": "ipython3",
   "version": "3.6.10"
  }
 },
 "nbformat": 4,
 "nbformat_minor": 4
}
